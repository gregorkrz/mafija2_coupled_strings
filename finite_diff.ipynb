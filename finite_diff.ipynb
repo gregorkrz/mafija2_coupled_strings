{
 "cells": [
  {
   "cell_type": "code",
   "execution_count": 104,
   "outputs": [],
   "source": [
    "import numpy as np\n",
    "import matplotlib.pyplot as plt\n",
    "from scipy.sparse import csr_matrix\n",
    "from lib import rk45"
   ],
   "metadata": {
    "collapsed": false
   }
  },
  {
   "cell_type": "code",
   "execution_count": 105,
   "outputs": [],
   "source": [
    "def domain(n, d=100):\n",
    "    # domain: [x, left_idx, middle_idx, right_idx]\n",
    "    x = np.linspace(-d, d, 2*n+1)\n",
    "    left_idx = np.arange(n)\n",
    "    right_idx = np.arange(n+1, 2*n+1)\n",
    "    middle_idx = n\n",
    "    return [x, left_idx, middle_idx, right_idx]\n",
    "\n",
    "\n",
    "def initial_gauss(x, idx, premik):\n",
    "    # idx is either left_idx or right_idx\n",
    "    y = np.zeros_like(x)\n",
    "    d = x[-1] - x[0]\n",
    "    y[idx] = np.exp(-(x[idx]-premik)**2)\n",
    "    return y\n",
    "\n",
    "\n",
    "def get_derivative_matrix(n, order=4):\n",
    "    order_coeffs = [[-2, 1], [-5/2, 4/3, -1/12], [-49/18, 3/2, -3/20, 1/90],\n",
    "                    [-205 / 72, 8 / 5, -1 / 5, 8 / 315, -1 / 560],\n",
    "                    [-5269 / 1800, 5 / 3, -5 / 21, 5 / 126, -5 / 1008, 1 / 3150],\n",
    "                    [-5369 / 1800, 12 / 7, -15 / 56, 10 / 189, -1 / 112, 2 / 1925, -1 / 16632]]\n",
    "    coeffs = order_coeffs[order-2]\n",
    "    a = np.zeros((n, n), dtype=np.float64)\n",
    "    for i, c in enumerate(coeffs):\n",
    "        if i != 0:\n",
    "            a += np.diag(np.ones(n-i), k=i) * c\n",
    "        a += np.diag(np.ones(n-i), k=-i) * c\n",
    "    return csr_matrix(a)\n",
    "\n",
    "\n",
    "def old_get_derivative_matrix(n, order=3):\n",
    "    # n is the number of space points\n",
    "    # order is the order of the 2nd derivative matrix\n",
    "    assert order in [2,3]\n",
    "    if order == 3:\n",
    "        a = np.diag(np.ones(n), k=0) * (-5/2)\n",
    "        a += np.diag(np.ones(n-1), k=1) * 4/3\n",
    "        a += np.diag(np.ones(n-1), k=-1) * 4/3\n",
    "        a += np.diag(np.ones(n-2), k=2) * (-1/12)\n",
    "        a += np.diag(np.ones(n-2), k=-2) * (-1/12)\n",
    "        return csr_matrix(a)\n",
    "    data = []\n",
    "    row = []\n",
    "    col = []\n",
    "    for i in range(n):\n",
    "        data.append(-2)\n",
    "        row.append(i)\n",
    "        col.append(i)\n",
    "        if i < n-1:\n",
    "            data.append(1)\n",
    "            row.append(i)\n",
    "            col.append(i+1)\n",
    "            data.append(1)\n",
    "            row.append(i+1)\n",
    "            col.append(i)\n",
    "    data = np.array(data)\n",
    "    row = np.array(row)\n",
    "    col = np.array(col)\n",
    "    A = csr_matrix((data, (row, col)), shape=(n, n))\n",
    "    A[0, :] = 0\n",
    "    A[-1, :] = 0\n",
    "    return A\n",
    "\n",
    "\n",
    "def dydt(y, domain, A, Qu=0., Qv=0.):\n",
    "    x, left_idx, middle_idx, right_idx = domain\n",
    "    left_middle_idx = np.concatenate((left_idx, [middle_idx]))\n",
    "    middle_right_idx = np.concatenate(([middle_idx], right_idx))\n",
    "    n = len(x) // 2\n",
    "    d = x[-1] - x[0]\n",
    "    h = abs(x[1] - x[0])\n",
    "    # A = sparse 2nd derivative matrix\n",
    "    dydt = np.zeros_like(y)\n",
    "    dydt[:, 0] = y[:, 1]\n",
    "    #dydt_left =  A @ y[left_middle_idx, 0] / h**2\n",
    "    #dydt_right = A @ y[middle_right_idx, 0] / h**2\n",
    "    dydt_all = A @ y[:, 0] / (h**2)\n",
    "    dydt_left = dydt_all[left_idx]\n",
    "    dydt_right = dydt_all[right_idx]\n",
    "    dydt[left_idx, 1] = dydt_left\n",
    "    dydt[right_idx, 1] = dydt_right\n",
    "    dydt[middle_idx, 0] = 0. # TODO : correct here with the right boundary condition\n",
    "    #dydt[left_idx[0]] = 0.\n",
    "    #dydt[right_idx[-1]] = 0.\n",
    "    return dydt\n"
   ],
   "metadata": {
    "collapsed": false
   }
  },
  {
   "cell_type": "code",
   "execution_count": 106,
   "outputs": [
    {
     "data": {
      "text/plain": "matrix([[-2.72222222,  1.5       , -0.15      ,  0.01111111],\n        [ 1.5       , -2.72222222,  1.5       , -0.15      ],\n        [-0.15      ,  1.5       , -2.72222222,  1.5       ],\n        [ 0.01111111, -0.15      ,  1.5       , -2.72222222]])"
     },
     "execution_count": 106,
     "metadata": {},
     "output_type": "execute_result"
    }
   ],
   "source": [
    "get_derivative_matrix(4).todense()\n"
   ],
   "metadata": {
    "collapsed": false
   }
  },
  {
   "cell_type": "code",
   "execution_count": 107,
   "outputs": [],
   "source": [
    "def bc_correct(y_upper, y_lower, domain, Qu, Qv):\n",
    "    x, left_idx, middle_idx, right_idx = domain\n",
    "    n = len(x) // 2\n",
    "    d = x[-1] - x[0]\n",
    "    h = abs(x[1] - x[0])\n",
    "    ur = y_upper[right_idx[0], 0]\n",
    "    ul = y_upper[left_idx[-1], 0]\n",
    "    vr = y_lower[right_idx[0], 0]\n",
    "    vl = y_lower[left_idx[-1], 0]\n",
    "    sol = np.linalg.solve(np.array([[1 / Qv + 2 / h, 1 / Qv], [1 / Qu, 1 / Qu + 2 / h]]), np.array([(ur+ul) / h, (vr+vl) / h]))\n",
    "    return sol"
   ],
   "metadata": {
    "collapsed": false
   }
  },
  {
   "cell_type": "code",
   "execution_count": 108,
   "outputs": [],
   "source": [
    "def damping_factor(x, d=100, bound=6, damp=2):\n",
    "    if x < -d + bound:\n",
    "        return np.exp(-damp*(abs(x-d+bound)))\n",
    "    elif x > d - bound:\n",
    "        return np.exp(-damp*(abs(x-d+bound)))\n",
    "    else:\n",
    "        return 1.\n",
    "\n",
    "damping_factors = [damping_factor(i) for i in x]\n",
    "\n",
    "def der(y_upper, y_lower, domain, A, Qu, Qv):\n",
    "    x, left_idx, middle_idx, right_idx = domain\n",
    "    dydt_upper = dydt(y_upper, domain, A, Qu, Qv)\n",
    "    dydt_lower = dydt(y_lower, domain, A, Qu, Qv)\n",
    "    #dydt_upper[middle_idx, 0] = 0\n",
    "    #dydt_lower[middle_idx, 0] = 0\n",
    "    return dydt_upper, dydt_lower\n",
    "\n",
    "def integrate_rk(y_upper_0, y_lower_0, domain, A, Qu, Qv, T, n_steps, return_history=True):\n",
    "    y_upper = np.zeros_like(y_upper_0)\n",
    "    y_lower = np.zeros_like(y_lower_0)\n",
    "    y_upper[:, :] = y_upper_0\n",
    "    y_lower[:, :] = y_lower_0\n",
    "    middle_idx = domain[2]\n",
    "    left_idx = domain[1]\n",
    "    right_idx = domain[3]\n",
    "    dt = T/n_steps\n",
    "\n",
    "    x0 = y_upper_0\n",
    "    # flatten x0\n",
    "    x0 = x0.flatten()\n",
    "    x0 = np.concatenate([x0, y_lower_0.flatten()])\n",
    "\n",
    "    def correct_bc(x):\n",
    "        # returns corrected x\n",
    "        y_upper = x[:len(x)//2].reshape(y_upper_0.shape)\n",
    "        y_lower = x[len(x)//2:].reshape(y_lower_0.shape)\n",
    "        y_upper[middle_idx, 0], y_lower[middle_idx, 0] = bc_correct(y_upper, y_lower, domain, Qu, Qv)\n",
    "        # y_upper[:, 0] *= damping_factors\n",
    "        # y_lower[:, 0] *= damping_factors\n",
    "        return np.concatenate([y_upper.flatten(), y_lower.flatten()])\n",
    "    def f(x, t):\n",
    "        y_upper = x[:len(x)//2]\n",
    "        y_lower = x[len(x)//2:]\n",
    "        y_upper = y_upper.reshape(y_upper_0.shape)\n",
    "        y_lower = y_lower.reshape(y_lower_0.shape)\n",
    "        dydt_upper, dydt_lower = der(y_upper, y_lower, domain, A, Qu, Qv)\n",
    "        return np.concatenate([dydt_upper.flatten(), dydt_lower.flatten()])\n",
    "    ts = np.linspace(0, T, n_steps+1)\n",
    "    sol = rk45(f, x0, ts, bc_correct_fn=correct_bc)\n",
    "    y_upper_sol, y_lower_sol = sol[:, :sol.shape[1] // 2], sol[:, sol.shape[1] // 2:]\n",
    "    # print(sol.shape, y_upper_sol.shape, y_lower_sol.shape)\n",
    "    if return_history:\n",
    "        return y_upper_sol.reshape([-1] + list(y_upper_0.shape)), y_lower_sol.reshape([-1] + list(y_lower_0.shape)), ts\n",
    "    else:\n",
    "        return y_upper_sol[-1].reshape(y_upper_0.shape), y_lower_sol[-1].reshape(y_upper_0.shape)\n",
    "\n",
    "def integrate(y_upper_0, y_lower_0, domain, A, Qu, Qv, T, n_steps, return_history=True):\n",
    "    x, left_idx, middle_idx, right_idx = domain\n",
    "    y_upper = np.zeros_like(y_upper_0)\n",
    "    y_lower = np.zeros_like(y_lower_0)\n",
    "    y_upper[:, :] = y_upper_0\n",
    "    y_lower[:, :] = y_lower_0\n",
    "    dt = T/n_steps\n",
    "    t = 0\n",
    "    y_uppers, y_lowers, ts = [], [], []\n",
    "    while t < T:\n",
    "        dydt_upper, dydt_lower = der(y_upper, y_lower, domain, A, Qu, Qv)\n",
    "        y_upper += dydt_upper * dt\n",
    "        y_lower += dydt_lower * dt\n",
    "        t += dt\n",
    "        ts.append(t)\n",
    "        y_uppers.append(y_upper.copy())\n",
    "        y_lowers.append(y_lower.copy())\n",
    "    if return_history:\n",
    "        return np.array(y_uppers), np.array(y_lowers), np.array(ts)\n",
    "    else:\n",
    "        return y_upper, y_lower"
   ],
   "metadata": {
    "collapsed": false
   }
  },
  {
   "cell_type": "code",
   "execution_count": 1,
   "outputs": [
    {
     "ename": "NameError",
     "evalue": "name 'domain' is not defined",
     "output_type": "error",
     "traceback": [
      "\u001B[0;31m---------------------------------------------------------------------------\u001B[0m",
      "\u001B[0;31mNameError\u001B[0m                                 Traceback (most recent call last)",
      "Cell \u001B[0;32mIn[1], line 2\u001B[0m\n\u001B[1;32m      1\u001B[0m n_space_pts \u001B[38;5;241m=\u001B[39m \u001B[38;5;241m1000\u001B[39m\n\u001B[0;32m----> 2\u001B[0m x, l, m, r \u001B[38;5;241m=\u001B[39m \u001B[43mdomain\u001B[49m(n_space_pts, d\u001B[38;5;241m=\u001B[39m\u001B[38;5;241m100\u001B[39m)\n\u001B[1;32m      3\u001B[0m g \u001B[38;5;241m=\u001B[39m initial_gauss(x, l, premik\u001B[38;5;241m=\u001B[39m\u001B[38;5;241m-\u001B[39m\u001B[38;5;241m50\u001B[39m)\n\u001B[1;32m      4\u001B[0m y \u001B[38;5;241m=\u001B[39m np\u001B[38;5;241m.\u001B[39mzeros((\u001B[38;5;28mlen\u001B[39m(x), \u001B[38;5;241m2\u001B[39m))\n",
      "\u001B[0;31mNameError\u001B[0m: name 'domain' is not defined"
     ]
    }
   ],
   "source": [
    "n_space_pts = 1000\n",
    "x, l, m, r = domain(n_space_pts, d=100)\n",
    "g = initial_gauss(x, l, premik=-50)\n",
    "y = np.zeros((len(x), 2))\n",
    "y[:, 0] = g\n",
    "y_bottom = np.zeros_like(y)\n",
    "plt.plot(x, y[:, 0])\n",
    "plt.show()"
   ],
   "metadata": {
    "collapsed": false
   }
  },
  {
   "cell_type": "code",
   "execution_count": 110,
   "outputs": [
    {
     "data": {
      "text/plain": "<Figure size 640x480 with 1 Axes>",
      "image/png": "[encoded data removed]"
     },
     "metadata": {},
     "output_type": "display_data"
    }
   ],
   "source": [
    "upper, lower = integrate_rk(y, y_bottom, domain(n_space_pts, d=100), get_derivative_matrix(2*n_space_pts+1), Qu=1, Qv=1, T=30, n_steps=1000, return_history=False)\n",
    "plt.plot(x, lower[:, 0])\n",
    "plt.show()"
   ],
   "metadata": {
    "collapsed": false
   }
  },
  {
   "cell_type": "code",
   "execution_count": 111,
   "outputs": [],
   "source": [
    "resitev_upp, resitev_down, t = integrate_rk(y, y_bottom, domain(n_space_pts, d=100), get_derivative_matrix(2*n_space_pts+1), Qu=1, Qv=1, T=1000, n_steps=15000)\n",
    "\n",
    "import numpy as np\n",
    "import matplotlib.pyplot as plt\n",
    "from matplotlib.animation import FuncAnimation\n",
    "\n",
    "def animate(x, y, t, y_bottom):\n",
    "    # Create the figure and axis\n",
    "    fig, ax = plt.subplots(2, figsize=(9, 6))\n",
    "    line, = ax[0].plot([], [], lw=2)\n",
    "    line_bottom = ax[1].plot([], [], lw=2)\n",
    "    # Define the animation function\n",
    "    def animate(i):\n",
    "        line_bottom[0].set_data(x, y_bottom[i])\n",
    "        line.set_data(x, y[i])\n",
    "        ax[0].set_xlim(x[0], x[-1])\n",
    "        ax[0].set_ylim(-1, 1)\n",
    "        #ax[0].set_xlabel('x')\n",
    "        #ax[0].set_ylabel('y')\n",
    "        ax[0].set_title(f't={round(t[i], 3)}')\n",
    "        ax[0].set_xlim(x[0], x[-1])\n",
    "        ax[0].set_ylim(-1, 1)\n",
    "        ax[1].set_xlim(x[0], x[-1])\n",
    "        ax[1].set_ylim(-1, 1)\n",
    "        return line, line_bottom\n",
    "    # Create the animation\n",
    "    anim = FuncAnimation(fig, animate, frames=len(y), interval=200)\n",
    "    # Show the animation\n",
    "    return anim, fig"
   ],
   "metadata": {
    "collapsed": false
   }
  },
  {
   "cell_type": "code",
   "execution_count": 112,
   "outputs": [
    {
     "data": {
      "text/plain": "<Figure size 900x600 with 2 Axes>",
      "image/png": "[encoded data removed]"
     },
     "metadata": {},
     "output_type": "display_data"
    }
   ],
   "source": [
    "real_duration = 3 # secs   # this doesn't really work for some reason\n",
    "fps = len(t) / real_duration\n",
    "# select only 10% of frames\n",
    "selected = resitev_upp[::30, :, 0]\n",
    "selected_down = resitev_down[::30, :, 0]\n",
    "# print(selected.shape)\n",
    "anim, fig = animate(x, selected, t, -1*selected_down)"
   ],
   "metadata": {
    "collapsed": false
   }
  },
  {
   "cell_type": "code",
   "execution_count": 113,
   "outputs": [
    {
     "name": "stderr",
     "output_type": "stream",
     "text": [
      "MovieWriter ffmpeg unavailable; using Pillow instead.\n"
     ]
    },
    {
     "name": "stdout",
     "output_type": "stream",
     "text": [
      "Done - animation saved\n"
     ]
    }
   ],
   "source": [
    "anim.save(\"test.gif\", fps=fps)\n",
    "print(\"Done - animation saved\")"
   ],
   "metadata": {
    "collapsed": false
   }
  },
  {
   "cell_type": "code",
   "execution_count": 113,
   "outputs": [],
   "source": [],
   "metadata": {
    "collapsed": false
   }
  },
  {
   "cell_type": "code",
   "execution_count": 114,
   "outputs": [
    {
     "data": {
      "text/plain": "array([[0., 0.],\n       [0., 0.],\n       [0., 0.],\n       ...,\n       [0., 0.],\n       [0., 0.],\n       [0., 0.]])"
     },
     "execution_count": 114,
     "metadata": {},
     "output_type": "execute_result"
    }
   ],
   "source": [
    "resitev_down[0]"
   ],
   "metadata": {
    "collapsed": false
   }
  },
  {
   "cell_type": "code",
   "execution_count": 115,
   "outputs": [
    {
     "data": {
      "text/plain": "array([0., 0., 0., ..., 0., 0., 0.])"
     },
     "execution_count": 115,
     "metadata": {},
     "output_type": "execute_result"
    }
   ],
   "source": [
    "selected_down[0]\n"
   ],
   "metadata": {
    "collapsed": false
   }
  },
  {
   "cell_type": "code",
   "execution_count": 116,
   "outputs": [
    {
     "data": {
      "text/plain": "<Figure size 640x480 with 1 Axes>",
      "image/png": "[encoded data removed]"
     },
     "metadata": {},
     "output_type": "display_data"
    }
   ],
   "source": [
    "plt.plot(x, [damping_factor(i) for i in x])\n",
    "plt.show()"
   ],
   "metadata": {
    "collapsed": false
   }
  },
  {
   "cell_type": "code",
   "execution_count": null,
   "outputs": [],
   "source": [],
   "metadata": {
    "collapsed": false
   }
  }
 ],
 "metadata": {
  "kernelspec": {
   "display_name": "Python 3",
   "language": "python",
   "name": "python3"
  },
  "language_info": {
   "codemirror_mode": {
    "name": "ipython",
    "version": 2
   },
   "file_extension": ".py",
   "mimetype": "text/x-python",
   "name": "python",
   "nbconvert_exporter": "python",
   "pygments_lexer": "ipython2",
   "version": "2.7.6"
  }
 },
 "nbformat": 4,
 "nbformat_minor": 0
}
